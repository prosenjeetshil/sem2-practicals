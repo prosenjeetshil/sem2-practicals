{
 "cells": [
  {
   "cell_type": "code",
   "execution_count": 1,
   "id": "4b0b8f7d-9247-4dd4-a517-c0aaec9819f4",
   "metadata": {},
   "outputs": [],
   "source": [
    "from sklearn.ensemble import BaggingClassifier, AdaBoostClassifier, StackingClassifier, VotingClassifier\n",
    "from sklearn.tree import DecisionTreeClassifier\n",
    "from sklearn.linear_model import LogisticRegression\n",
    "from sklearn.neighbors import KNeighborsClassifier\n",
    "from sklearn.model_selection import train_test_split\n",
    "from sklearn.datasets import load_iris\n",
    "from sklearn.metrics import accuracy_score"
   ]
  },
  {
   "cell_type": "code",
   "execution_count": 2,
   "id": "25f788ef-f500-4050-89f4-0c985e93a303",
   "metadata": {},
   "outputs": [],
   "source": [
    "iris=load_iris()\n",
    "x,y=iris.data,iris.target"
   ]
  },
  {
   "cell_type": "code",
   "execution_count": 3,
   "id": "e116ec06-b877-454a-b1d8-413f4b3f7cf0",
   "metadata": {},
   "outputs": [
    {
     "data": {
      "text/plain": [
       "(150, 4)"
      ]
     },
     "execution_count": 3,
     "metadata": {},
     "output_type": "execute_result"
    }
   ],
   "source": [
    "x.shape"
   ]
  },
  {
   "cell_type": "code",
   "execution_count": 4,
   "id": "159dcdfe-7b42-4aac-9868-d14974fa4c92",
   "metadata": {},
   "outputs": [
    {
     "data": {
      "text/plain": [
       "(150,)"
      ]
     },
     "execution_count": 4,
     "metadata": {},
     "output_type": "execute_result"
    }
   ],
   "source": [
    "y.shape"
   ]
  },
  {
   "cell_type": "code",
   "execution_count": 5,
   "id": "7965169a-613e-4e55-b6f7-bb9382fcd1c1",
   "metadata": {},
   "outputs": [],
   "source": [
    "#split the data into traning and testing\n",
    "X_train,X_test,y_train,y_test=train_test_split(x,y,test_size=0.2,random_state=42)"
   ]
  },
  {
   "cell_type": "code",
   "execution_count": 6,
   "id": "7161e205-e0e3-4877-8038-34caabbf873e",
   "metadata": {},
   "outputs": [
    {
     "name": "stdout",
     "output_type": "stream",
     "text": [
      "Bagging Accuracy: 1.0\n"
     ]
    }
   ],
   "source": [
    "#1.bAGGING (using Decision Tree as base estimator)\n",
    "bagging_model=BaggingClassifier(estimator=DecisionTreeClassifier(),n_estimators=10,random_state=42)\n",
    "bagging_model.fit(X_train,y_train)\n",
    "bagging_predictions=bagging_model.predict(X_test)\n",
    "bagging_accuracy=accuracy_score(y_test,bagging_predictions)\n",
    "print(\"Bagging Accuracy:\",bagging_accuracy)"
   ]
  },
  {
   "cell_type": "code",
   "execution_count": 7,
   "id": "189bf803-1f6a-4bab-9c4e-791047c3b16a",
   "metadata": {},
   "outputs": [
    {
     "name": "stdout",
     "output_type": "stream",
     "text": [
      "Boosting Accuracy: 1.0\n"
     ]
    }
   ],
   "source": [
    "#2.Boosting(using AdaBoost with Decision Tree)\n",
    "boosting_model=AdaBoostClassifier(estimator=DecisionTreeClassifier(),n_estimators=50,random_state=42)\n",
    "boosting_model.fit(X_train,y_train)\n",
    "boosting_predictions=boosting_model.predict(X_test)\n",
    "boosting_accuracy=accuracy_score(y_test,boosting_predictions)\n",
    "print(\"Boosting Accuracy:\",boosting_accuracy)"
   ]
  },
  {
   "cell_type": "code",
   "execution_count": 8,
   "id": "1f3988f1-506c-4390-9175-ff05f6ef12ff",
   "metadata": {},
   "outputs": [],
   "source": [
    "#3.Stalking (using Decision Tree ,Logistic REgression  and KNN as base estimators)\n",
    "estimators=[\n",
    "    ('dt',DecisionTreeClassifier()),\n",
    "    ('lr',LogisticRegression()),\n",
    "    ('knn',KNeighborsClassifier())\n",
    "]"
   ]
  },
  {
   "cell_type": "code",
   "execution_count": 9,
   "id": "04d0d516-db51-45fd-9396-942f19a69ee4",
   "metadata": {},
   "outputs": [
    {
     "name": "stdout",
     "output_type": "stream",
     "text": [
      "Voting Accuracy: 1.0\n"
     ]
    }
   ],
   "source": [
    "#4.Voting(using Decision Tree ,Logistic REgression  and KNN)\n",
    "voting_model=VotingClassifier(estimators=[\n",
    "     ('dt',DecisionTreeClassifier()),\n",
    "    ('lr',LogisticRegression()),\n",
    "    ('knn',KNeighborsClassifier())\n",
    "],voting='hard')#'hard' for majority vote,'soft' for weighted average probabilities\n",
    "voting_model.fit(X_train,y_train)\n",
    "voting_predictions=voting_model.predict(X_test)\n",
    "voting_accuracy=accuracy_score(y_test,voting_predictions)\n",
    "print(\"Voting Accuracy:\",voting_accuracy)"
   ]
  }
 ],
 "metadata": {
  "kernelspec": {
   "display_name": "Python 3 (ipykernel)",
   "language": "python",
   "name": "python3"
  },
  "language_info": {
   "codemirror_mode": {
    "name": "ipython",
    "version": 3
   },
   "file_extension": ".py",
   "mimetype": "text/x-python",
   "name": "python",
   "nbconvert_exporter": "python",
   "pygments_lexer": "ipython3",
   "version": "3.11.7"
  }
 },
 "nbformat": 4,
 "nbformat_minor": 5
}
