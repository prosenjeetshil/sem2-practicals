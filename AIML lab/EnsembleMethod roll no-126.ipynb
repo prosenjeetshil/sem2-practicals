{
 "cells": [
  {
   "cell_type": "code",
   "execution_count": 1,
   "id": "94587783",
   "metadata": {},
   "outputs": [],
   "source": [
    "from sklearn.ensemble import BaggingClassifier, AdaBoostClassifier, StackingClassifier, VotingClassifier\n",
    "from sklearn.tree import DecisionTreeClassifier\n",
    "from sklearn.linear_model import LogisticRegression\n",
    "from sklearn.neighbors import KNeighborsClassifier\n",
    "from sklearn.model_selection import train_test_split\n",
    "from sklearn.datasets import load_iris\n",
    "from sklearn.metrics import accuracy_score"
   ]
  },
  {
   "cell_type": "code",
   "execution_count": 2,
   "id": "7c6c62de",
   "metadata": {},
   "outputs": [],
   "source": [
    "iris=load_iris()\n",
    "x,y=iris.data,iris.target"
   ]
  },
  {
   "cell_type": "code",
   "execution_count": 3,
   "id": "a1f7a03e",
   "metadata": {},
   "outputs": [
    {
     "data": {
      "text/plain": [
       "(150, 4)"
      ]
     },
     "execution_count": 3,
     "metadata": {},
     "output_type": "execute_result"
    }
   ],
   "source": [
    "x.shape"
   ]
  },
  {
   "cell_type": "code",
   "execution_count": 4,
   "id": "90b5309e",
   "metadata": {},
   "outputs": [
    {
     "data": {
      "text/plain": [
       "(150,)"
      ]
     },
     "execution_count": 4,
     "metadata": {},
     "output_type": "execute_result"
    }
   ],
   "source": [
    "y.shape"
   ]
  },
  {
   "cell_type": "code",
   "execution_count": 6,
   "id": "fcb185b1",
   "metadata": {},
   "outputs": [],
   "source": [
    "#split the data into traning and testing\n",
    "X_train,X_test,y_train,y_test=train_test_split(x,y,test_size=0.2,random_state=42)"
   ]
  },
  {
   "cell_type": "code",
   "execution_count": 10,
   "id": "0f33cc34",
   "metadata": {},
   "outputs": [
    {
     "name": "stdout",
     "output_type": "stream",
     "text": [
      "Bagging Accuracy: 1.0\n"
     ]
    }
   ],
   "source": [
    "#1.bAGGING (using Decision Tree as base estimator)\n",
    "bagging_model=BaggingClassifier(estimator=DecisionTreeClassifier(),n_estimators=10,random_state=42)\n",
    "bagging_model.fit(X_train,y_train)\n",
    "bagging_predictions=bagging_model.predict(X_test)\n",
    "bagging_accuracy=accuracy_score(y_test,bagging_predictions)\n",
    "print(\"Bagging Accuracy:\",bagging_accuracy)"
   ]
  },
  {
   "cell_type": "code",
   "execution_count": 11,
   "id": "20c158d6",
   "metadata": {},
   "outputs": [
    {
     "name": "stdout",
     "output_type": "stream",
     "text": [
      "Boosting Accuracy: 1.0\n"
     ]
    }
   ],
   "source": [
    "#2.Boosting(using AdaBoost with Decision Tree)\n",
    "boosting_model=AdaBoostClassifier(estimator=DecisionTreeClassifier(),n_estimators=50,random_state=42)\n",
    "boosting_model.fit(X_train,y_train)\n",
    "boosting_predictions=boosting_model.predict(X_test)\n",
    "boosting_accuracy=accuracy_score(y_test,boosting_predictions)\n",
    "print(\"Boosting Accuracy:\",boosting_accuracy)"
   ]
  },
  {
   "cell_type": "code",
   "execution_count": 12,
   "id": "5cdadb7f",
   "metadata": {},
   "outputs": [],
   "source": [
    "#3.Stalking (using Decision Tree ,Logistic REgression  and KNN as base estimators)\n",
    "estimators=[\n",
    "    ('dt',DecisionTreeClassifier()),\n",
    "    ('lr',LogisticRegression()),\n",
    "    ('knn',KNeighborsClassifier())\n",
    "]"
   ]
  },
  {
   "cell_type": "code",
   "execution_count": 14,
   "id": "9e9c6dae",
   "metadata": {},
   "outputs": [
    {
     "name": "stdout",
     "output_type": "stream",
     "text": [
      "Voting Accuracy: 1.0\n"
     ]
    }
   ],
   "source": [
    "#4.Voting(using Decision Tree ,Logistic REgression  and KNN)\n",
    "voting_model=VotingClassifier(estimators=[\n",
    "     ('dt',DecisionTreeClassifier()),\n",
    "    ('lr',LogisticRegression()),\n",
    "    ('knn',KNeighborsClassifier())\n",
    "],voting='hard')#'hard' for majority vote,'soft' for weighted average probabilities\n",
    "voting_model.fit(X_train,y_train)\n",
    "voting_predictions=voting_model.predict(X_test)\n",
    "voting_accuracy=accuracy_score(y_test,voting_predictions)\n",
    "print(\"Voting Accuracy:\",voting_accuracy)"
   ]
  },
  {
   "cell_type": "code",
   "execution_count": null,
   "id": "bf7832e3",
   "metadata": {},
   "outputs": [],
   "source": []
  }
 ],
 "metadata": {
  "kernelspec": {
   "display_name": "Python 3 (ipykernel)",
   "language": "python",
   "name": "python3"
  },
  "language_info": {
   "codemirror_mode": {
    "name": "ipython",
    "version": 3
   },
   "file_extension": ".py",
   "mimetype": "text/x-python",
   "name": "python",
   "nbconvert_exporter": "python",
   "pygments_lexer": "ipython3",
   "version": "3.10.9"
  }
 },
 "nbformat": 4,
 "nbformat_minor": 5
}
